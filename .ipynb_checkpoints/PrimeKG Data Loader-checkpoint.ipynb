{
 "cells": [
  {
   "cell_type": "markdown",
   "id": "6ec646cd",
   "metadata": {},
   "source": [
    "# ECS8052 Assessment Data Loader\n",
    "\n",
    "This file contains the code necessary to download the data needed for the module assessment. You may use this code freely as part of your assessment."
   ]
  },
  {
   "cell_type": "code",
   "execution_count": null,
   "id": "774d05bb",
   "metadata": {},
   "outputs": [],
   "source": [
    "import os\n",
    "datadir = 'primekg'\n",
    "if not os.path.exists(datadir):\n",
    "    os.mkdir(datadir)"
   ]
  },
  {
   "cell_type": "code",
   "execution_count": null,
   "id": "1475b0c1",
   "metadata": {},
   "outputs": [],
   "source": [
    "filelist = [\n",
    "    ('kg.csv', 'https://dataverse.harvard.edu/api/access/datafile/6180620', 'aac8191d4fbc5bf09cdf8c3c78b4e75f'),\n",
    "    ('disease_features.tab', 'https://dataverse.harvard.edu/api/access/datafile/6180618', 'f8d120497eb69848dc7d971ae30e3cd6'),\n",
    "    ('drug_features.tab', 'https://dataverse.harvard.edu/api/access/datafile/6180619', 'e8c67d20e815b0d26d9d91be79adfff8'),\n",
    "\n",
    "    ('nodes.tab', 'https://dataverse.harvard.edu/api/access/datafile/6180617', '4924de04fb3deefa1e0a8dada424538e'),  # MD5 differs on website\n",
    "    ('edges.csv', 'https://dataverse.harvard.edu/api/access/datafile/6180616', '5d4d211a22e88544b78fde2735e797bc'),\n",
    "\n",
    "    ('README.txt', 'https://dataverse.harvard.edu/api/access/datafile/6191270', '608e37d4808bb97643186a1b6dc8f307'),\n",
    "]"
   ]
  },
  {
   "cell_type": "code",
   "execution_count": null,
   "id": "44b3367a",
   "metadata": {},
   "outputs": [],
   "source": [
    "import requests\n",
    "import hashlib\n",
    "\n",
    "for f in filelist:\n",
    "    print(f'INITIATING: download of {f[0]} from {f[1]}')\n",
    "    response = requests.get(f[1])\n",
    "    file_Path = datadir + '/' + f[0]\n",
    "    if response.status_code != 200:\n",
    "        print('Failed to download file {f[0]} from {f[1]}')\n",
    "    else:\n",
    "        m = hashlib.md5()\n",
    "        m.update(response.content)\n",
    "        if m.hexdigest() == f[2]:\n",
    "            print(f'SUCCESS: File {f[0]} downloaded from {f[1]} with correct checksum {f[2]}')\n",
    "            with open(file_Path, 'wb') as file:\n",
    "                file.write(response.content)\n",
    "        else:\n",
    "            print(f'ERROR: File {f[0]} downloaded from {f[1]} with incorrect checksum {m.hexdigest()} (should be {f[2]})')            \n"
   ]
  }
 ],
 "metadata": {
  "kernelspec": {
   "display_name": "Python 3",
   "language": "python",
   "name": "python3"
  },
  "language_info": {
   "codemirror_mode": {
    "name": "ipython",
    "version": 3
   },
   "file_extension": ".py",
   "mimetype": "text/x-python",
   "name": "python",
   "nbconvert_exporter": "python",
   "pygments_lexer": "ipython3",
   "version": "3.9.6"
  }
 },
 "nbformat": 4,
 "nbformat_minor": 5
}
